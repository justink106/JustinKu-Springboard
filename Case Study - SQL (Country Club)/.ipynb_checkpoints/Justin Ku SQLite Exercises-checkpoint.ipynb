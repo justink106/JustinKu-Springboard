{
 "cells": [
  {
   "cell_type": "code",
   "execution_count": 1,
   "id": "b482d3e1-d138-4a8d-86c7-5bb750d05c33",
   "metadata": {},
   "outputs": [
    {
     "name": "stdout",
     "output_type": "stream",
     "text": [
      "2.6.0\n",
      "2. Query all tasks\n",
      "(0, 'Tennis Court 1', 5, 25, 10000, 200)\n",
      "(1, 'Tennis Court 2', 5, 25, 8000, 200)\n",
      "(2, 'Badminton Court', 0, 15.5, 4000, 50)\n",
      "(3, 'Table Tennis', 0, 5, 320, 10)\n",
      "(4, 'Massage Room 1', 9.9, 80, 4000, 3000)\n",
      "(5, 'Massage Room 2', 9.9, 80, 4000, 3000)\n",
      "(6, 'Squash Court', 3.5, 17.5, 5000, 80)\n",
      "(7, 'Snooker Table', 0, 5, 450, 15)\n",
      "(8, 'Pool Table', 0, 5, 400, 15)\n"
     ]
    }
   ],
   "source": [
    "# below gathered from 'LocalSQLConnection'\n",
    "\n",
    "import sqlite3\n",
    "from sqlite3 import Error\n",
    "\n",
    " \n",
    "def create_connection(db_file):\n",
    "    \"\"\" create a database connection to the SQLite database\n",
    "        specified by the db_file\n",
    "    :param db_file: database file\n",
    "    :return: Connection object or None\n",
    "    \"\"\"\n",
    "    conn = None\n",
    "    try:\n",
    "        conn = sqlite3.connect(db_file)\n",
    "        print(sqlite3.version)\n",
    "    except Error as e:\n",
    "        print(e)\n",
    " \n",
    "    return conn\n",
    "\n",
    " \n",
    "def select_all_tasks(conn):\n",
    "    \"\"\"\n",
    "    Query all rows in the tasks table\n",
    "    :param conn: the Connection object\n",
    "    :return:\n",
    "    \"\"\"\n",
    "    cur = conn.cursor()\n",
    "    \n",
    "    query1 = \"\"\"\n",
    "        SELECT *\n",
    "        FROM FACILITIES\n",
    "        \"\"\"\n",
    "    cur.execute(query1)\n",
    " \n",
    "    rows = cur.fetchall()\n",
    " \n",
    "    for row in rows:\n",
    "        print(row)\n",
    "\n",
    "\n",
    "def main():\n",
    "    database = \"sqlite_db_pythonsqlite.db\"\n",
    " \n",
    "    # create a database connection\n",
    "    conn = create_connection(database)\n",
    "    with conn: \n",
    "        print(\"2. Query all tasks\")\n",
    "        select_all_tasks(conn)\n",
    " \n",
    " \n",
    "if __name__ == '__main__':\n",
    "    main()"
   ]
  },
  {
   "cell_type": "markdown",
   "id": "ef661f1c-20cb-4a0f-bfd1-5dc6abc1c5af",
   "metadata": {},
   "source": [
    "### Q10: \n",
    "Produce a list of facilities with a total revenue less than 1000.\n",
    "The output of facility name and total revenue, sorted by revenue. Remember\n",
    "that there's a different cost for guests and members!"
   ]
  },
  {
   "cell_type": "code",
   "execution_count": 5,
   "id": "85bed777-b3d7-4c6a-bfef-ccd1a4d7a20f",
   "metadata": {},
   "outputs": [
    {
     "name": "stdout",
     "output_type": "stream",
     "text": [
      "            name  revenue\n",
      "0   Table Tennis      180\n",
      "1  Snooker Table      240\n",
      "2     Pool Table      270\n"
     ]
    }
   ],
   "source": [
    "from sqlalchemy import create_engine\n",
    "import pandas as pd\n",
    "\n",
    "conn = create_engine('sqlite:///sqlite_db_pythonsqlite.db')\n",
    "df_q10 = pd.read_sql_query(\"SELECT * FROM (SELECT name, SUM(CASE WHEN memid = 0 THEN slots * guestcost ELSE slots * membercost END) AS revenue FROM Bookings AS b LEFT JOIN Facilities AS f ON b.facid = f.facid GROUP BY name) AS revenue_data WHERE revenue < 1000 ORDER BY revenue\", conn)\n",
    "\n",
    "print(df_q10)"
   ]
  },
  {
   "cell_type": "markdown",
   "id": "ec5a0f2d-dbb8-4ab9-b0ed-8c3110e2d9da",
   "metadata": {},
   "source": [
    "### Q11: \n",
    "\n",
    "Produce a report of members and who recommended them in alphabetic surname,firstname order"
   ]
  },
  {
   "cell_type": "code",
   "execution_count": 18,
   "id": "5f05f2a1-10b9-4bc7-b4b0-616b4e45673c",
   "metadata": {},
   "outputs": [
    {
     "name": "stdout",
     "output_type": "stream",
     "text": [
      "                member               recommendby\n",
      "0      Bader, Florence         Sarwin, Ramnaresh\n",
      "1       Baker, Timothy              Coplin, Joan\n",
      "2      Butters, Gerald          Genting, Matthew\n",
      "3      Farrell, Jemima            Baker, Timothy\n",
      "4      Farrell, Jemima             Pinker, David\n",
      "5     Genting, Matthew         Rumney, Henrietta\n",
      "6         Jones, David            Jones, Douglas\n",
      "7     Joplette, Janice               Dare, Nancy\n",
      "8     Joplette, Janice              Jones, David\n",
      "9   Purview, Millicent                Hunt, John\n",
      "10         Rownam, Tim               Boothe, Tim\n",
      "11       Smith, Darren          Joplette, Janice\n",
      "12       Smith, Darren           Butters, Gerald\n",
      "13       Smith, Darren             Owen, Charles\n",
      "14       Smith, Darren               Smith, Jack\n",
      "15       Smith, Darren           Mackenzie, Anna\n",
      "16        Smith, Tracy  Worthington-Smyth, Henry\n",
      "17        Smith, Tracy        Purview, Millicent\n",
      "18        Smith, Tracy            Crumpet, Erica\n",
      "19    Stibbons, Ponder               Baker, Anne\n",
      "20    Stibbons, Ponder           Bader, Florence\n",
      "21       Tracy, Burton          Stibbons, Ponder\n"
     ]
    }
   ],
   "source": [
    "from sqlalchemy import create_engine\n",
    "import pandas as pd\n",
    "\n",
    "conn = create_engine('sqlite:///sqlite_db_pythonsqlite.db')\n",
    "df_q11 = pd.read_sql_query(\"\"\" SELECT m1.surname || ', ' || m1.firstname AS member, m2.surname || ', ' || m2.firstname AS recommendby FROM Members AS m1 LEFT JOIN Members AS m2 ON m1.memid = m2.recommendedby WHERE m2.recommendedby IS NOT NULL ORDER BY member \"\"\", conn)\n",
    "\n",
    "print(df_q11)"
   ]
  },
  {
   "cell_type": "markdown",
   "id": "0e5f0931-42a4-4b67-988e-19986b87b31b",
   "metadata": {},
   "source": [
    "### Q12: \n",
    "Find the facilities with their usage by member, but not guests"
   ]
  },
  {
   "cell_type": "code",
   "execution_count": 21,
   "id": "99daf8cc-0592-4dff-a866-d9b400b0ad00",
   "metadata": {},
   "outputs": [
    {
     "name": "stdout",
     "output_type": "stream",
     "text": [
      "              name  usageperfacility\n",
      "0   Tennis Court 1               957\n",
      "1   Tennis Court 2               882\n",
      "2  Badminton Court              1086\n",
      "3     Table Tennis               794\n",
      "4   Massage Room 1               884\n",
      "5   Massage Room 2                54\n",
      "6     Squash Court               418\n",
      "7    Snooker Table               860\n",
      "8       Pool Table               856\n"
     ]
    }
   ],
   "source": [
    "from sqlalchemy import create_engine\n",
    "import pandas as pd\n",
    "\n",
    "conn = create_engine('sqlite:///sqlite_db_pythonsqlite.db')\n",
    "df_q12 = pd.read_sql_query(\"SELECT name, SUM(slots) AS usageperfacility FROM Facilities INNER JOIN Bookings USING (facid) WHERE memid <> 0 GROUP BY facid\", conn)\n",
    "\n",
    "print(df_q12)"
   ]
  },
  {
   "cell_type": "markdown",
   "id": "0a12f0b8-0606-4bbc-8a5d-8c147c3fd54c",
   "metadata": {},
   "source": [
    "### Q13: \n",
    "Find the facilities usage by month, but not guests"
   ]
  },
  {
   "cell_type": "code",
   "execution_count": 26,
   "id": "c4d4e3cd-dde3-47b2-b64b-422418c8677b",
   "metadata": {},
   "outputs": [
    {
     "name": "stdout",
     "output_type": "stream",
     "text": [
      "               name  usageperfacility month\n",
      "0    Tennis Court 1               201    07\n",
      "1    Tennis Court 2               123    07\n",
      "2   Badminton Court               165    07\n",
      "3      Table Tennis                98    07\n",
      "4    Massage Room 1               166    07\n",
      "5    Massage Room 2                 8    07\n",
      "6      Squash Court                50    07\n",
      "7     Snooker Table               140    07\n",
      "8        Pool Table               110    07\n",
      "9    Tennis Court 1               339    08\n",
      "10   Tennis Court 2               345    08\n",
      "11  Badminton Court               414    08\n",
      "12     Table Tennis               296    08\n",
      "13   Massage Room 1               316    08\n",
      "14   Massage Room 2                18    08\n",
      "15     Squash Court               184    08\n",
      "16    Snooker Table               316    08\n",
      "17       Pool Table               303    08\n",
      "18   Tennis Court 1               417    09\n",
      "19   Tennis Court 2               414    09\n",
      "20  Badminton Court               507    09\n",
      "21     Table Tennis               400    09\n",
      "22   Massage Room 1               402    09\n",
      "23   Massage Room 2                28    09\n",
      "24     Squash Court               184    09\n",
      "25    Snooker Table               404    09\n",
      "26       Pool Table               443    09\n"
     ]
    }
   ],
   "source": [
    "from sqlalchemy import create_engine\n",
    "import pandas as pd\n",
    "\n",
    "conn = create_engine('sqlite:///sqlite_db_pythonsqlite.db')\n",
    "df_q13 = pd.read_sql_query(\"SELECT name, SUM(slots) AS usageperfacility, STRFTIME('%m', starttime) AS month FROM Facilities INNER JOIN Bookings USING (facid) WHERE memid <> 0 GROUP BY month, facid\", conn)\n",
    "\n",
    "print(df_q13)"
   ]
  },
  {
   "cell_type": "code",
   "execution_count": null,
   "id": "f9671778-4903-4113-b53f-c83e573a3edb",
   "metadata": {},
   "outputs": [],
   "source": []
  }
 ],
 "metadata": {
  "kernelspec": {
   "display_name": "Python 3 (ipykernel)",
   "language": "python",
   "name": "python3"
  },
  "language_info": {
   "codemirror_mode": {
    "name": "ipython",
    "version": 3
   },
   "file_extension": ".py",
   "mimetype": "text/x-python",
   "name": "python",
   "nbconvert_exporter": "python",
   "pygments_lexer": "ipython3",
   "version": "3.11.7"
  }
 },
 "nbformat": 4,
 "nbformat_minor": 5
}
