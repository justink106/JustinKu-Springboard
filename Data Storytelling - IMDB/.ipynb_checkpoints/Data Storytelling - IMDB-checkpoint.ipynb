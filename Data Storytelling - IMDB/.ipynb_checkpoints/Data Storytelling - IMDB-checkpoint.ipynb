{
 "cells": [
  {
   "cell_type": "markdown",
   "id": "0f3bfa77-2fb7-46fe-9699-dd5396a2f912",
   "metadata": {},
   "source": [
    "## In this notebook, I will be diving in the top 1000 movies taken from IMDB (2021)"
   ]
  },
  {
   "cell_type": "code",
   "execution_count": 1,
   "id": "aacddb75-4420-467e-aee1-cb19691695aa",
   "metadata": {},
   "outputs": [],
   "source": [
    "# Importing modules\n",
    "\n",
    "import pandas as pd\n",
    "import numpy as np\n",
    "import seaborn as sns\n",
    "import matplotlib.pyplot as plt"
   ]
  },
  {
   "cell_type": "code",
   "execution_count": 2,
   "id": "86c83129-cff6-422c-8702-c78c754f36a5",
   "metadata": {},
   "outputs": [],
   "source": [
    "# Importing my dataset\n",
    "\n",
    "imdb = pd.read_csv('imdb_top_1000.csv')"
   ]
  },
  {
   "cell_type": "code",
   "execution_count": 3,
   "id": "310ae818-22ad-45b5-a378-6ed63343331c",
   "metadata": {},
   "outputs": [
    {
     "data": {
      "text/plain": [
       "<bound method NDFrame.head of                                            Poster_Link  \\\n",
       "0    https://m.media-amazon.com/images/M/MV5BMDFkYT...   \n",
       "1    https://m.media-amazon.com/images/M/MV5BM2MyNj...   \n",
       "2    https://m.media-amazon.com/images/M/MV5BMTMxNT...   \n",
       "3    https://m.media-amazon.com/images/M/MV5BMWMwMG...   \n",
       "4    https://m.media-amazon.com/images/M/MV5BMWU4N2...   \n",
       "..                                                 ...   \n",
       "995  https://m.media-amazon.com/images/M/MV5BNGEwMT...   \n",
       "996  https://m.media-amazon.com/images/M/MV5BODk3Yj...   \n",
       "997  https://m.media-amazon.com/images/M/MV5BM2U3Yz...   \n",
       "998  https://m.media-amazon.com/images/M/MV5BZTBmMj...   \n",
       "999  https://m.media-amazon.com/images/M/MV5BMTY5OD...   \n",
       "\n",
       "                 Series_Title Released_Year Certificate  Runtime  \\\n",
       "0    The Shawshank Redemption          1994           A  142 min   \n",
       "1               The Godfather          1972           A  175 min   \n",
       "2             The Dark Knight          2008          UA  152 min   \n",
       "3      The Godfather: Part II          1974           A  202 min   \n",
       "4                12 Angry Men          1957           U   96 min   \n",
       "..                        ...           ...         ...      ...   \n",
       "995    Breakfast at Tiffany's          1961           A  115 min   \n",
       "996                     Giant          1956           G  201 min   \n",
       "997     From Here to Eternity          1953      Passed  118 min   \n",
       "998                  Lifeboat          1944         NaN   97 min   \n",
       "999              The 39 Steps          1935         NaN   86 min   \n",
       "\n",
       "                        Genre  IMDB_Rating  \\\n",
       "0                       Drama          9.3   \n",
       "1                Crime, Drama          9.2   \n",
       "2        Action, Crime, Drama          9.0   \n",
       "3                Crime, Drama          9.0   \n",
       "4                Crime, Drama          9.0   \n",
       "..                        ...          ...   \n",
       "995    Comedy, Drama, Romance          7.6   \n",
       "996            Drama, Western          7.6   \n",
       "997       Drama, Romance, War          7.6   \n",
       "998                Drama, War          7.6   \n",
       "999  Crime, Mystery, Thriller          7.6   \n",
       "\n",
       "                                              Overview  Meta_score  \\\n",
       "0    Two imprisoned men bond over a number of years...        80.0   \n",
       "1    An organized crime dynasty's aging patriarch t...       100.0   \n",
       "2    When the menace known as the Joker wreaks havo...        84.0   \n",
       "3    The early life and career of Vito Corleone in ...        90.0   \n",
       "4    A jury holdout attempts to prevent a miscarria...        96.0   \n",
       "..                                                 ...         ...   \n",
       "995  A young New York socialite becomes interested ...        76.0   \n",
       "996  Sprawling epic covering the life of a Texas ca...        84.0   \n",
       "997  In Hawaii in 1941, a private is cruelly punish...        85.0   \n",
       "998  Several survivors of a torpedoed merchant ship...        78.0   \n",
       "999  A man in London tries to help a counter-espion...        93.0   \n",
       "\n",
       "                 Director              Star1              Star2  \\\n",
       "0          Frank Darabont        Tim Robbins     Morgan Freeman   \n",
       "1    Francis Ford Coppola      Marlon Brando          Al Pacino   \n",
       "2       Christopher Nolan     Christian Bale       Heath Ledger   \n",
       "3    Francis Ford Coppola          Al Pacino     Robert De Niro   \n",
       "4            Sidney Lumet        Henry Fonda        Lee J. Cobb   \n",
       "..                    ...                ...                ...   \n",
       "995         Blake Edwards     Audrey Hepburn     George Peppard   \n",
       "996        George Stevens   Elizabeth Taylor        Rock Hudson   \n",
       "997        Fred Zinnemann     Burt Lancaster   Montgomery Clift   \n",
       "998      Alfred Hitchcock  Tallulah Bankhead        John Hodiak   \n",
       "999      Alfred Hitchcock       Robert Donat  Madeleine Carroll   \n",
       "\n",
       "              Star3           Star4  No_of_Votes        Gross  \n",
       "0        Bob Gunton  William Sadler      2343110   28,341,469  \n",
       "1        James Caan    Diane Keaton      1620367  134,966,411  \n",
       "2     Aaron Eckhart   Michael Caine      2303232  534,858,444  \n",
       "3     Robert Duvall    Diane Keaton      1129952   57,300,000  \n",
       "4     Martin Balsam    John Fiedler       689845    4,360,000  \n",
       "..              ...             ...          ...          ...  \n",
       "995   Patricia Neal     Buddy Ebsen       166544          NaN  \n",
       "996      James Dean   Carroll Baker        34075          NaN  \n",
       "997    Deborah Kerr      Donna Reed        43374   30,500,000  \n",
       "998   Walter Slezak  William Bendix        26471          NaN  \n",
       "999  Lucie Mannheim  Godfrey Tearle        51853          NaN  \n",
       "\n",
       "[1000 rows x 16 columns]>"
      ]
     },
     "execution_count": 3,
     "metadata": {},
     "output_type": "execute_result"
    }
   ],
   "source": [
    "# Exploring my dataset\n",
    "\n",
    "imdb.head"
   ]
  },
  {
   "cell_type": "code",
   "execution_count": 7,
   "id": "2a3c6d22-18c0-4109-93ec-55b7e68434e2",
   "metadata": {},
   "outputs": [
    {
     "data": {
      "text/html": [
       "<div>\n",
       "<style scoped>\n",
       "    .dataframe tbody tr th:only-of-type {\n",
       "        vertical-align: middle;\n",
       "    }\n",
       "\n",
       "    .dataframe tbody tr th {\n",
       "        vertical-align: top;\n",
       "    }\n",
       "\n",
       "    .dataframe thead th {\n",
       "        text-align: right;\n",
       "    }\n",
       "</style>\n",
       "<table border=\"1\" class=\"dataframe\">\n",
       "  <thead>\n",
       "    <tr style=\"text-align: right;\">\n",
       "      <th></th>\n",
       "      <th>IMDB_Rating</th>\n",
       "      <th>Meta_score</th>\n",
       "      <th>No_of_Votes</th>\n",
       "    </tr>\n",
       "  </thead>\n",
       "  <tbody>\n",
       "    <tr>\n",
       "      <th>count</th>\n",
       "      <td>1000.000000</td>\n",
       "      <td>843.000000</td>\n",
       "      <td>1.000000e+03</td>\n",
       "    </tr>\n",
       "    <tr>\n",
       "      <th>mean</th>\n",
       "      <td>7.949300</td>\n",
       "      <td>77.971530</td>\n",
       "      <td>2.736929e+05</td>\n",
       "    </tr>\n",
       "    <tr>\n",
       "      <th>std</th>\n",
       "      <td>0.275491</td>\n",
       "      <td>12.376099</td>\n",
       "      <td>3.273727e+05</td>\n",
       "    </tr>\n",
       "    <tr>\n",
       "      <th>min</th>\n",
       "      <td>7.600000</td>\n",
       "      <td>28.000000</td>\n",
       "      <td>2.508800e+04</td>\n",
       "    </tr>\n",
       "    <tr>\n",
       "      <th>25%</th>\n",
       "      <td>7.700000</td>\n",
       "      <td>70.000000</td>\n",
       "      <td>5.552625e+04</td>\n",
       "    </tr>\n",
       "    <tr>\n",
       "      <th>50%</th>\n",
       "      <td>7.900000</td>\n",
       "      <td>79.000000</td>\n",
       "      <td>1.385485e+05</td>\n",
       "    </tr>\n",
       "    <tr>\n",
       "      <th>75%</th>\n",
       "      <td>8.100000</td>\n",
       "      <td>87.000000</td>\n",
       "      <td>3.741612e+05</td>\n",
       "    </tr>\n",
       "    <tr>\n",
       "      <th>max</th>\n",
       "      <td>9.300000</td>\n",
       "      <td>100.000000</td>\n",
       "      <td>2.343110e+06</td>\n",
       "    </tr>\n",
       "  </tbody>\n",
       "</table>\n",
       "</div>"
      ],
      "text/plain": [
       "       IMDB_Rating  Meta_score   No_of_Votes\n",
       "count  1000.000000  843.000000  1.000000e+03\n",
       "mean      7.949300   77.971530  2.736929e+05\n",
       "std       0.275491   12.376099  3.273727e+05\n",
       "min       7.600000   28.000000  2.508800e+04\n",
       "25%       7.700000   70.000000  5.552625e+04\n",
       "50%       7.900000   79.000000  1.385485e+05\n",
       "75%       8.100000   87.000000  3.741612e+05\n",
       "max       9.300000  100.000000  2.343110e+06"
      ]
     },
     "execution_count": 7,
     "metadata": {},
     "output_type": "execute_result"
    }
   ],
   "source": [
    "imdb.describe()"
   ]
  },
  {
   "cell_type": "code",
   "execution_count": 9,
   "id": "be7bd99f-4091-4968-87df-38b011bdec84",
   "metadata": {},
   "outputs": [
    {
     "name": "stdout",
     "output_type": "stream",
     "text": [
      "<class 'pandas.core.frame.DataFrame'>\n",
      "RangeIndex: 1000 entries, 0 to 999\n",
      "Data columns (total 16 columns):\n",
      " #   Column         Non-Null Count  Dtype  \n",
      "---  ------         --------------  -----  \n",
      " 0   Poster_Link    1000 non-null   object \n",
      " 1   Series_Title   1000 non-null   object \n",
      " 2   Released_Year  1000 non-null   object \n",
      " 3   Certificate    899 non-null    object \n",
      " 4   Runtime        1000 non-null   object \n",
      " 5   Genre          1000 non-null   object \n",
      " 6   IMDB_Rating    1000 non-null   float64\n",
      " 7   Overview       1000 non-null   object \n",
      " 8   Meta_score     843 non-null    float64\n",
      " 9   Director       1000 non-null   object \n",
      " 10  Star1          1000 non-null   object \n",
      " 11  Star2          1000 non-null   object \n",
      " 12  Star3          1000 non-null   object \n",
      " 13  Star4          1000 non-null   object \n",
      " 14  No_of_Votes    1000 non-null   int64  \n",
      " 15  Gross          831 non-null    object \n",
      "dtypes: float64(2), int64(1), object(13)\n",
      "memory usage: 125.1+ KB\n"
     ]
    }
   ],
   "source": [
    "imdb.info()"
   ]
  },
  {
   "cell_type": "code",
   "execution_count": 11,
   "id": "072b47f7-b693-4e90-bbc2-2bde9030dafb",
   "metadata": {},
   "outputs": [
    {
     "data": {
      "text/plain": [
       "0"
      ]
     },
     "execution_count": 11,
     "metadata": {},
     "output_type": "execute_result"
    }
   ],
   "source": [
    "imdb.duplicated().sum()"
   ]
  },
  {
   "cell_type": "code",
   "execution_count": 13,
   "id": "9fd0f7ad-dd98-436e-9222-ee7f969401bb",
   "metadata": {},
   "outputs": [
    {
     "data": {
      "text/plain": [
       "Poster_Link        0\n",
       "Series_Title       0\n",
       "Released_Year      0\n",
       "Certificate      101\n",
       "Runtime            0\n",
       "Genre              0\n",
       "IMDB_Rating        0\n",
       "Overview           0\n",
       "Meta_score       157\n",
       "Director           0\n",
       "Star1              0\n",
       "Star2              0\n",
       "Star3              0\n",
       "Star4              0\n",
       "No_of_Votes        0\n",
       "Gross            169\n",
       "dtype: int64"
      ]
     },
     "execution_count": 13,
     "metadata": {},
     "output_type": "execute_result"
    }
   ],
   "source": [
    "# Checking to see if there are any null values\n",
    "\n",
    "imdb.isnull().sum()"
   ]
  },
  {
   "cell_type": "code",
   "execution_count": 15,
   "id": "ffb1cd6e-2cdc-423b-b968-1a5161113293",
   "metadata": {},
   "outputs": [],
   "source": [
    "# Dropping the rows where there are nulls in the Gross and Meta_score columns\n",
    "\n",
    "imdb = imdb.dropna(subset=['Gross', 'Meta_score'])"
   ]
  },
  {
   "cell_type": "code",
   "execution_count": 17,
   "id": "7625fb6e-f5b9-4c73-8b69-2fc2a8877d50",
   "metadata": {},
   "outputs": [
    {
     "name": "stderr",
     "output_type": "stream",
     "text": [
      "/var/folders/j4/zp2fvcv16r3_602nppyngwfc0000gn/T/ipykernel_73752/3098006766.py:3: SettingWithCopyWarning: \n",
      "A value is trying to be set on a copy of a slice from a DataFrame.\n",
      "Try using .loc[row_indexer,col_indexer] = value instead\n",
      "\n",
      "See the caveats in the documentation: https://pandas.pydata.org/pandas-docs/stable/user_guide/indexing.html#returning-a-view-versus-a-copy\n",
      "  imdb['Certificate'] = imdb['Certificate'].fillna('Unrated')\n"
     ]
    }
   ],
   "source": [
    "# Imputing null values in Certificate\n",
    "\n",
    "imdb['Certificate'] = imdb['Certificate'].fillna('Unrated')"
   ]
  },
  {
   "cell_type": "code",
   "execution_count": 19,
   "id": "b202e18c-456b-4958-9d59-202556a939bf",
   "metadata": {},
   "outputs": [
    {
     "data": {
      "text/plain": [
       "Poster_Link      0\n",
       "Series_Title     0\n",
       "Released_Year    0\n",
       "Certificate      0\n",
       "Runtime          0\n",
       "Genre            0\n",
       "IMDB_Rating      0\n",
       "Overview         0\n",
       "Meta_score       0\n",
       "Director         0\n",
       "Star1            0\n",
       "Star2            0\n",
       "Star3            0\n",
       "Star4            0\n",
       "No_of_Votes      0\n",
       "Gross            0\n",
       "dtype: int64"
      ]
     },
     "execution_count": 19,
     "metadata": {},
     "output_type": "execute_result"
    }
   ],
   "source": [
    "# Checking to see if there are any null values\n",
    "\n",
    "imdb.isnull().sum()"
   ]
  },
  {
   "cell_type": "markdown",
   "id": "f91b100d-dbf4-4459-bf13-f851aa74b667",
   "metadata": {},
   "source": [
    "## Question 1: What was the most popular type of genre for the top movies?"
   ]
  },
  {
   "cell_type": "code",
   "execution_count": 22,
   "id": "a878c69e-d036-4e00-8cbe-75a093e55a3a",
   "metadata": {
    "collapsed": true,
    "jupyter": {
     "outputs_hidden": true
    },
    "scrolled": true
   },
   "outputs": [
    {
     "name": "stdout",
     "output_type": "stream",
     "text": [
      "['Action, Adventure', 'Action, Adventure, Comedy', 'Action, Adventure, Drama', 'Action, Adventure, Family', 'Action, Adventure, Fantasy', 'Action, Adventure, History', 'Action, Adventure, Horror', 'Action, Adventure, Mystery', 'Action, Adventure, Romance', 'Action, Adventure, Sci-Fi', 'Action, Adventure, Thriller', 'Action, Adventure, War', 'Action, Adventure, Western', 'Action, Biography, Crime', 'Action, Biography, Drama', 'Action, Comedy, Crime', 'Action, Comedy, Fantasy', 'Action, Comedy, Mystery', 'Action, Crime, Drama', 'Action, Crime, Mystery', 'Action, Crime, Thriller', 'Action, Drama', 'Action, Drama, History', 'Action, Drama, Mystery', 'Action, Drama, Sci-Fi', 'Action, Drama, Sport', 'Action, Drama, War', 'Action, Drama, Western', 'Action, Mystery, Thriller', 'Action, Sci-Fi', 'Action, Sci-Fi, Thriller', 'Action, Thriller', 'Adventure, Biography, Crime', 'Adventure, Biography, Drama', 'Adventure, Comedy, Crime', 'Adventure, Comedy, Drama', 'Adventure, Comedy, Family', 'Adventure, Comedy, Fantasy', 'Adventure, Comedy, Sci-Fi', 'Adventure, Comedy, War', 'Adventure, Drama', 'Adventure, Drama, Fantasy', 'Adventure, Drama, History', 'Adventure, Drama, Musical', 'Adventure, Drama, Romance', 'Adventure, Drama, Sci-Fi', 'Adventure, Drama, Thriller', 'Adventure, Drama, War', 'Adventure, Drama, Western', 'Adventure, Family, Fantasy', 'Adventure, Fantasy', 'Adventure, Horror, Sci-Fi', 'Adventure, Mystery, Thriller', 'Adventure, Sci-Fi', 'Adventure, Thriller', 'Animation, Action, Adventure', 'Animation, Action, Crime', 'Animation, Action, Fantasy', 'Animation, Adventure, Comedy', 'Animation, Adventure, Drama', 'Animation, Adventure, Family', 'Animation, Adventure, Fantasy', 'Animation, Biography, Crime', 'Animation, Biography, Drama', 'Animation, Comedy, Crime', 'Animation, Comedy, Drama', 'Animation, Comedy, Fantasy', 'Animation, Drama, Family', 'Animation, Drama, Fantasy', 'Animation, Drama, Romance', 'Animation, Family, Fantasy', 'Animation, Sci-Fi', 'Biography, Comedy, Drama', 'Biography, Crime, Drama', 'Biography, Drama', 'Biography, Drama, Family', 'Biography, Drama, History', 'Biography, Drama, Music', 'Biography, Drama, Romance', 'Biography, Drama, Sport', 'Biography, Drama, Thriller', 'Biography, Drama, War', 'Comedy', 'Comedy, Crime', 'Comedy, Crime, Drama', 'Comedy, Crime, Romance', 'Comedy, Crime, Sport', 'Comedy, Drama', 'Comedy, Drama, Family', 'Comedy, Drama, Fantasy', 'Comedy, Drama, Music', 'Comedy, Drama, Musical', 'Comedy, Drama, Romance', 'Comedy, Drama, Thriller', 'Comedy, Drama, War', 'Comedy, Family', 'Comedy, Family, Fantasy', 'Comedy, Fantasy, Romance', 'Comedy, Horror', 'Comedy, Music', 'Comedy, Music, Musical', 'Comedy, Music, Romance', 'Comedy, Musical, Romance', 'Comedy, Mystery, Romance', 'Comedy, Romance', 'Comedy, Western', 'Crime, Drama', 'Crime, Drama, Fantasy', 'Crime, Drama, Film-Noir', 'Crime, Drama, History', 'Crime, Drama, Musical', 'Crime, Drama, Mystery', 'Crime, Drama, Romance', 'Crime, Drama, Sci-Fi', 'Crime, Drama, Thriller', 'Crime, Film-Noir, Thriller', 'Crime, Mystery, Thriller', 'Crime, Thriller', 'Drama', 'Drama, Family', 'Drama, Family, Fantasy', 'Drama, Family, Musical', 'Drama, Family, Sport', 'Drama, Fantasy, Music', 'Drama, Fantasy, Mystery', 'Drama, Fantasy, Romance', 'Drama, Fantasy, War', 'Drama, Film-Noir', 'Drama, Film-Noir, Romance', 'Drama, History', 'Drama, History, Music', 'Drama, History, Mystery', 'Drama, History, Romance', 'Drama, History, Thriller', 'Drama, History, War', 'Drama, Horror', 'Drama, Horror, Mystery', 'Drama, Horror, Sci-Fi', 'Drama, Horror, Thriller', 'Drama, Music', 'Drama, Music, Musical', 'Drama, Music, Mystery', 'Drama, Music, Romance', 'Drama, Mystery', 'Drama, Mystery, Romance', 'Drama, Mystery, Sci-Fi', 'Drama, Mystery, Thriller', 'Drama, Mystery, War', 'Drama, Romance', 'Drama, Romance, Sci-Fi', 'Drama, Romance, Thriller', 'Drama, Romance, War', 'Drama, Sci-Fi', 'Drama, Sci-Fi, Thriller', 'Drama, Sport', 'Drama, Thriller', 'Drama, Thriller, War', 'Drama, Thriller, Western', 'Drama, War', 'Drama, War, Western', 'Drama, Western', 'Family, Fantasy, Musical', 'Family, Sci-Fi', 'Film-Noir, Mystery', 'Film-Noir, Mystery, Thriller', 'Horror', 'Horror, Mystery, Sci-Fi', 'Horror, Mystery, Thriller', 'Horror, Sci-Fi', 'Horror, Thriller', 'Mystery, Romance, Thriller', 'Mystery, Sci-Fi, Thriller', 'Mystery, Thriller', 'Thriller', 'Western']\n"
     ]
    }
   ],
   "source": [
    "unique_genres = sorted(imdb['Genre'].unique().tolist())\n",
    "print(unique_genres)"
   ]
  },
  {
   "cell_type": "code",
   "execution_count": 30,
   "id": "9eb4f2d1-b3af-4fdc-8c10-916c63fb2762",
   "metadata": {},
   "outputs": [
    {
     "data": {
      "text/plain": [
       "Genre\n",
       "Drama                         66\n",
       "Drama, Romance                27\n",
       "Comedy, Drama                 27\n",
       "Crime, Drama, Thriller        24\n",
       "Action, Adventure, Sci-Fi     21\n",
       "                              ..\n",
       "Drama, Film-Noir, Romance      1\n",
       "Action, Adventure, Romance     1\n",
       "Drama, Family                  1\n",
       "Crime, Drama, Sci-Fi           1\n",
       "Comedy, Music, Musical         1\n",
       "Name: count, Length: 175, dtype: int64"
      ]
     },
     "execution_count": 30,
     "metadata": {},
     "output_type": "execute_result"
    }
   ],
   "source": [
    "# Checking the count of my genres\n",
    "\n",
    "imdb['Genre'].value_counts()"
   ]
  },
  {
   "cell_type": "code",
   "execution_count": 42,
   "id": "4e719abf-8a54-45d9-a1f4-b915ab16eee7",
   "metadata": {},
   "outputs": [
    {
     "data": {
      "image/png": "[encoded data removed]",
      "text/plain": [
       "<Figure size 1200x600 with 1 Axes>"
      ]
     },
     "metadata": {},
     "output_type": "display_data"
    }
   ],
   "source": [
    "# Plotting a horizontal bar chart\n",
    "\n",
    "plt.figure(figsize=(12, 6))\n",
    "sns.countplot(\n",
    "    y='Genre', \n",
    "    data=imdb,\n",
    "    order=imdb['Genre'].value_counts().index[:15],\n",
    "    color='skyblue'\n",
    ")\n",
    "plt.xlabel('Count')\n",
    "plt.ylabel('Genre')\n",
    "plt.tight_layout()\n",
    "plt.show()"
   ]
  },
  {
   "cell_type": "markdown",
   "id": "aca8fab5-6514-4262-a5c4-0fe35e90a6aa",
   "metadata": {},
   "source": [
    "## Question 2: Was there a director that made the most amount of the top movies?"
   ]
  },
  {
   "cell_type": "code",
   "execution_count": 34,
   "id": "f04ddcb8-c8ea-4bbe-b26f-f4a38b6e2401",
   "metadata": {
    "scrolled": true
   },
   "outputs": [
    {
     "name": "stdout",
     "output_type": "stream",
     "text": [
      "['Frank Darabont' 'Francis Ford Coppola' 'Christopher Nolan'\n",
      " 'Sidney Lumet' 'Peter Jackson' 'Quentin Tarantino' 'Steven Spielberg'\n",
      " 'David Fincher' 'Robert Zemeckis' 'Sergio Leone' 'Lana Wachowski'\n",
      " 'Martin Scorsese' 'Irvin Kershner' 'Milos Forman' 'Bong Joon Ho'\n",
      " 'Fernando Meirelles' 'Hayao Miyazaki' 'Roberto Benigni' 'Jonathan Demme'\n",
      " 'George Lucas' 'Akira Kurosawa' 'Todd Phillips' 'Damien Chazelle'\n",
      " 'Olivier Nakache' 'Roman Polanski' 'Ridley Scott' 'Tony Kaye'\n",
      " 'Bryan Singer' 'Luc Besson' 'Roger Allers' 'James Cameron'\n",
      " 'Giuseppe Tornatore' 'Alfred Hitchcock' 'Michael Curtiz'\n",
      " 'Charles Chaplin' 'Nadine Labaki' 'Makoto Shinkai' 'Bob Persichetti'\n",
      " 'Anthony Russo' 'Lee Unkrich' 'Rajkumar Hirani' 'Andrew Stanton'\n",
      " 'Florian Henckel von Donnersmarck' 'Chan-wook Park' 'Stanley Kubrick'\n",
      " 'Sam Mendes' 'Thomas Vinterberg' 'Asghar Farhadi' 'Denis Villeneuve'\n",
      " 'Michel Gondry' 'Jean-Pierre Jeunet' 'Guy Ritchie' 'Darren Aronofsky'\n",
      " 'Gus Van Sant' 'Majid Majidi' 'John Lasseter' 'Mel Gibson'\n",
      " 'Brian De Palma' 'Richard Marquand' 'Wolfgang Petersen' 'George Roy Hill'\n",
      " 'David Lean' 'Billy Wilder' 'Stanley Donen' 'Orson Welles' 'Fritz Lang'\n",
      " 'Peter Farrelly' 'Martin McDonagh' 'Zaza Urushadze'\n",
      " 'Juan José Campanella' \"Gavin O'Connor\" 'Pete Docter' 'Shimit Amin'\n",
      " 'Paul Thomas Anderson' 'Guillermo del Toro' 'James McTeigue'\n",
      " 'Oliver Hirschbiegel' 'Ron Howard' 'Curtis Hanson' 'Michael Mann'\n",
      " 'Clint Eastwood' 'John McTiernan' 'Terry Gilliam' 'John Sturges'\n",
      " 'Jules Dassin' 'Joseph L. Mankiewicz' 'John Huston' 'Céline Sciamma'\n",
      " 'Xavier Dolan' 'James Mangold' 'Lenny Abrahamson' 'Damián Szifron'\n",
      " 'Nuri Bilge Ceylan' 'Wes Anderson' 'Steve McQueen' 'Tom McCarthy'\n",
      " 'Tomm Moore' 'George Miller' 'David Yates' 'Yôjirô Takita' 'Dean DeBlois'\n",
      " 'Sean Penn' 'Ethan Coen' 'Terry George' 'Je-kyu Kang' 'Richard Linklater'\n",
      " 'Alejandro G. Iñárritu' 'Ashutosh Gowariker' 'M. Night Shyamalan'\n",
      " 'Peter Weir' 'Emir Kusturica' 'Joel Coen' 'Kar-Wai Wong' 'Danny Boyle'\n",
      " 'Krzysztof Kieslowski' 'Jim Sheridan' 'Rob Reiner' 'Oliver Stone'\n",
      " 'Wim Wenders' 'John Carpenter' 'Alan Parker' 'Ingmar Bergman'\n",
      " 'Terry Jones' 'Michael Cimino' 'John G. Avildsen' 'Peter Bogdanovich'\n",
      " 'Stuart Rosenberg' 'Gillo Pontecorvo' 'Robert Aldrich' 'William Wyler'\n",
      " 'Elia Kazan' 'Carol Reed' 'Ernst Lubitsch' 'Frank Capra' 'Victor Fleming'\n",
      " 'Garth Davis' 'Byron Howard' 'Isao Takahata' 'Stephen Chbosky'\n",
      " 'Zoya Akhtar' 'Destin Daniel Cretton' 'Gareth Evans' 'Morten Tyldum'\n",
      " 'James Gunn' 'Spike Jonze' 'José Padilha' 'Tom Hooper' 'Tate Taylor'\n",
      " 'Tim Miller' 'Karan Johar' 'Joss Whedon' 'Vincent Paronnaud'\n",
      " 'Jean-Marc Vallée' 'Gabriele Muccino' 'Edward Zwick' 'Paul Greengrass'\n",
      " 'Ki-duk Kim' 'Frank Miller' 'Julian Schnabel' 'Brad Bird'\n",
      " 'Martin Campbell' 'Andrey Zvyagintsev' 'Alejandro Amenábar'\n",
      " 'Nikkhil Advani' 'Andrew Lau' 'Gore Verbinski' 'Tim Burton'\n",
      " 'Lars von Trier' 'Richard Kelly' 'David Lynch' 'Walter Salles'\n",
      " 'Billy Bob Thornton' 'Mike Leigh' 'Mamoru Oshii' 'Henry Selick'\n",
      " 'Harold Ramis' 'Taylor Hackford' 'Martin Brest' 'Ron Clements'\n",
      " 'Gary Trousdale' 'Kevin Costner' 'Spike Lee' 'Barry Levinson'\n",
      " 'Louis Malle' 'Richard Attenborough' 'Hal Ashby' 'Woody Allen'\n",
      " 'Mel Brooks' 'Franklin J. Schaffner' 'William Friedkin' 'Norman Jewison'\n",
      " 'Bernardo Bertolucci' 'Mike Nichols' 'Robert Wise' 'Federico Fellini'\n",
      " 'Robert Rossen' 'Howard Hawks' 'Otto Preminger' 'Richard Brooks'\n",
      " 'Charles Laughton' 'John Ford' 'Lewis Milestone' 'Sergei M. Eisenstein'\n",
      " 'Rian Johnson' 'Hirokazu Koreeda' 'Noah Baumbach' 'Luca Guadagnino'\n",
      " 'Ken Loach' 'Taika Waititi' 'Matt Ross' 'John Carney' 'Dan Gilroy'\n",
      " 'J.J. Abrams' 'Michel Hazanavicius' 'Doug Liman' 'Michael Haneke'\n",
      " 'Jacques Audiard' 'Duncan Jones' 'Tomas Alfredson' 'Neill Blomkamp'\n",
      " 'Cristian Mungiu' 'Tarsem Singh' 'Ang Lee' 'Christophe Barratier'\n",
      " 'Jon Favreau' 'Edgar Wright' 'Alfonso Cuarón' 'Yimou Zhang'\n",
      " 'Pedro Almodóvar' 'Danis Tanovic' \"Shin'ichirô Watanabe\"\n",
      " 'Fabián Bielinsky' 'Cameron Crowe' 'Lee Tamahori' 'Tony Scott'\n",
      " 'Bob Clark' 'John Landis' 'Bob Fosse' 'George A. Romero' 'Alan J. Pakula'\n",
      " 'Alejandro Jodorowsky' 'Luis Buñuel' 'Sam Peckinpah' 'Fred Zinnemann'\n",
      " 'George Seaton' 'Merian C. Cooper' 'Theodore Melfi' 'Paul King'\n",
      " 'Travis Knight' 'Kenneth Lonergan' 'Martin Zandvliet' 'Gareth Edwards'\n",
      " 'Greta Gerwig' 'Dorota Kobiela' 'Paolo Sorrentino' 'Ritesh Batra'\n",
      " 'Don Hall' 'Richard Curtis' 'Josh Cooley' 'Adam McKay' 'Jee-woon Kim'\n",
      " 'F. Gary Gray' 'Niels Arden Oplev' 'David O. Russell' 'Pierre Morel'\n",
      " 'Mark Herman' 'Fatih Akin' 'Joe Wright' 'Nicolas Winding Refn'\n",
      " 'Jaco Van Dormael' 'Jonathan Dayton' 'Yash Chopra' 'Anders Thomas Jensen'\n",
      " 'Roger Donaldson' 'Satoshi Kon' 'Mikael Håfström' 'Nick Cassavetes'\n",
      " 'Lukas Moodysson' 'Sylvain Chomet' 'Kevin Reynolds' 'Boaz Yakin'\n",
      " 'Troy Duffy' 'Joe Johnston' 'Andrew Adamson' 'Andrew Niccol'\n",
      " 'Lasse Hallström' 'George P. Cosmatos' 'David Mickey Evans' 'James Ivory'\n",
      " 'Andrew Davis' 'Robert De Niro' 'Jim Jarmusch' 'John Singleton'\n",
      " 'Penny Marshall' 'Sam Raimi' 'John Hughes' 'Richard Donner'\n",
      " 'Roland Joffé' 'Ivan Reitman' 'Philip Kaufman' 'Robert Benton'\n",
      " 'René Laloux' 'Mel Stuart' 'John Schlesinger' 'Terence Young'\n",
      " 'Stanley Kramer' 'George Cukor' 'Robert Stevenson' 'Ken Annakin'\n",
      " 'Jack Clayton' 'James Whale' 'Francis Lee' 'David Leitch'\n",
      " 'Taylor Sheridan' 'Jordan Peele' 'Christopher McQuarrie' 'Hannes Holm'\n",
      " 'Jemaine Clement' 'James Simone' 'James Marsh' 'Matthew Vaughn'\n",
      " 'Josh Boone' 'Alfonso Gomez-Rejon' 'Abdellatif Kechiche'\n",
      " 'Abhishek Kapoor' 'Felix van Groeningen' 'Alexander Payne' 'Rich Moore'\n",
      " 'Mark Osborne' 'Christopher Miller' 'Cary Joji Fukunaga' 'Ben Affleck'\n",
      " 'Marc Webb' 'Shane Meadows' 'Alex Garland' 'Susanne Bier'\n",
      " 'Kevin Macdonald' 'Paul McGuigan' 'Christian Carion' 'Anton Corbijn'\n",
      " 'Nathan Greno' 'Paul Verhoeven' 'Paul Haggis' 'Stephen Chow'\n",
      " 'Brad Anderson' 'Sofia Coppola' 'Mike Newell' 'Peter Mullan'\n",
      " 'Wolfgang Becker' 'Jessie Nelson' 'Stephen Daldry'\n",
      " 'John Cameron Mitchell' 'Steven Soderbergh' 'Yoshiaki Kawajiri'\n",
      " 'Trey Parker' 'Mike Judge' 'Todd Solondz' 'Antoine Fuqua'\n",
      " 'James L. Brooks' 'Francis Veber' 'Scott Hicks' 'Gregory Hoblit'\n",
      " 'Michael Radford' 'Kevin Smith' 'Robert Altman' 'Brian Henson'\n",
      " 'James Foley' 'Jon Avnet' 'Bruce Robinson' 'Jean-Jacques Annaud'\n",
      " 'Nicholas Meyer' 'Ted Kotcheff' 'Robert Redford' 'Jim Abrahams'\n",
      " 'Robert Clouse' 'John Boorman' 'Don Siegel' 'Gene Saks' 'Guy Hamilton'\n",
      " 'Georges Franju' 'James Algar' 'Aneesh Chaganty' 'Sean Baker'\n",
      " 'Tyler Nilson' 'Deniz Gamze Ergüven' 'Joseph Kosinski' 'Ryan Coogler'\n",
      " 'David Mackenzie' 'Stephen Frears' 'Matt Reeves' 'David Ayer'\n",
      " 'Hiromasa Yonebayashi' 'Bradley Cooper' 'Pierre Coffin' 'Jonathan Levine'\n",
      " 'Bennett Miller' 'Ruben Fleischer' 'John Lee Hancock' 'David Cronenberg'\n",
      " 'Olivier Dahan' 'Ronny Yu' 'Neil Burger' 'Zack Snyder' 'James Wan'\n",
      " 'Charlie Kaufman' 'Gregg Araki' 'Yann Samuell' 'Marc Forster'\n",
      " 'Eric Bress' 'Chris Columbus' 'Ted Demme' 'Mary Harron' 'Tom Tykwer'\n",
      " 'Terrence Malick' 'Tony Bancroft' 'Alex Proyas' 'Joel Schumacher'\n",
      " 'Jonathan Lynn' 'Marc Caro' 'David Zucker' 'Mark Rydell' 'Walter Hill'\n",
      " 'James Frawley' 'Brian G. Hutton' 'Wolfgang Reitherman' 'Richard Lester']\n"
     ]
    }
   ],
   "source": [
    "unique_directors = imdb['Director'].unique()\n",
    "print(unique_directors)"
   ]
  },
  {
   "cell_type": "code",
   "execution_count": 36,
   "id": "7a66b18c-8be0-48be-85c3-b2b95825832f",
   "metadata": {},
   "outputs": [
    {
     "data": {
      "text/plain": [
       "Director\n",
       "Steven Spielberg     13\n",
       "Martin Scorsese      10\n",
       "Alfred Hitchcock      9\n",
       "Christopher Nolan     8\n",
       "Clint Eastwood        8\n",
       "                     ..\n",
       "Neill Blomkamp        1\n",
       "Tomas Alfredson       1\n",
       "Duncan Jones          1\n",
       "Jacques Audiard       1\n",
       "Richard Lester        1\n",
       "Name: count, Length: 426, dtype: int64"
      ]
     },
     "execution_count": 36,
     "metadata": {},
     "output_type": "execute_result"
    }
   ],
   "source": [
    "# Checking the count of my directors\n",
    "\n",
    "imdb['Director'].value_counts()"
   ]
  },
  {
   "cell_type": "markdown",
   "id": "8bf86c07-4e6c-4193-894e-6587662de566",
   "metadata": {},
   "source": [
    "## Question 3: Who is the star that appeared the most amount of times in the top 1000 movies?"
   ]
  },
  {
   "cell_type": "code",
   "execution_count": null,
   "id": "0c52e193-a3e2-4ebb-9726-4722ac315f55",
   "metadata": {},
   "outputs": [],
   "source": []
  }
 ],
 "metadata": {
  "kernelspec": {
   "display_name": "Python 3 (ipykernel)",
   "language": "python",
   "name": "python3"
  },
  "language_info": {
   "codemirror_mode": {
    "name": "ipython",
    "version": 3
   },
   "file_extension": ".py",
   "mimetype": "text/x-python",
   "name": "python",
   "nbconvert_exporter": "python",
   "pygments_lexer": "ipython3",
   "version": "3.11.8"
  }
 },
 "nbformat": 4,
 "nbformat_minor": 5
}
