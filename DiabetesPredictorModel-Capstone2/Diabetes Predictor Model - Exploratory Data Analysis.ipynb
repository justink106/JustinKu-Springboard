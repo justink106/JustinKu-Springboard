{
 "cells": [
  {
   "cell_type": "markdown",
   "id": "6e5df816-882a-459b-9add-f7c3172ff4d0",
   "metadata": {},
   "source": [
    "# Diabetes Predictor Model - Exploratory Data Analysis"
   ]
  },
  {
   "cell_type": "markdown",
   "id": "3e0ae034-0562-4251-99bc-55e9f4879249",
   "metadata": {},
   "source": [
    "##### In the last notebook, the data wrangling notebook, we explored the diabetes dataset. We cleaned up the data, transformed, and structured the data to be in a 'ready' format for analysis. The cleaned up dataset was put into the 'cleaned_diabetes_df.csv' file.\n",
    "\n",
    "##### In this notebook we will:\n",
    "##### 1. Build data profile tables and plots\n",
    "##### 2. Explore data relationships\n",
    "##### 3. Perform identification and creation of features"
   ]
  },
  {
   "cell_type": "markdown",
   "id": "865e12e6-f975-4dd6-bcc1-2a5b3cfb2bca",
   "metadata": {},
   "source": [
    "### 1. Importing Relevant Modules"
   ]
  },
  {
   "cell_type": "code",
   "execution_count": 4,
   "id": "37b68c68-2ef1-4162-9191-9ef804a91fb1",
   "metadata": {},
   "outputs": [],
   "source": [
    "import numpy as np\n",
    "import pandas as pd\n",
    "import seaborn as sns\n",
    "import matplotlib.pyplot as plt\n",
    "import scipy.stats as stats\n",
    "import sklearn\n",
    "\n",
    "# special matplotlib argument for improved plots\n",
    "from matplotlib import rcParams\n",
    "sns.set_style(\"whitegrid\")\n",
    "sns.set_context(\"poster\")"
   ]
  },
  {
   "cell_type": "markdown",
   "id": "6adcc238-9447-4461-b28f-a7a167908d1f",
   "metadata": {},
   "source": [
    "### 2. Loading the Cleaned Dataset"
   ]
  },
  {
   "cell_type": "code",
   "execution_count": 9,
   "id": "191e4c4f-a059-4bb9-8381-ac8f9c1cf6d2",
   "metadata": {},
   "outputs": [
    {
     "name": "stdout",
     "output_type": "stream",
     "text": [
      "   Diabetes_012  HighBP  HighChol  CholCheck  BMI  Smoker  Stroke  \\\n",
      "0             0       1         1          1   40       1       0   \n",
      "1             0       0         0          0   25       1       0   \n",
      "2             0       1         1          1   28       0       0   \n",
      "3             0       1         0          1   27       0       0   \n",
      "4             0       1         1          1   24       0       0   \n",
      "\n",
      "   HeartDiseaseorAttack  PhysActivity  Fruits  ...  AnyHealthcare  \\\n",
      "0                     0             0       0  ...              1   \n",
      "1                     0             1       0  ...              0   \n",
      "2                     0             0       1  ...              1   \n",
      "3                     0             1       1  ...              1   \n",
      "4                     0             1       1  ...              1   \n",
      "\n",
      "   NoDocbcCost  GenHlth  MentHlth  PhysHlth  DiffWalk  Sex  Age  Education  \\\n",
      "0            0        5        18        15         1    0    9          4   \n",
      "1            1        3         0         0         0    0    7          6   \n",
      "2            1        5        30        30         1    0    9          4   \n",
      "3            0        2         0         0         0    0   11          3   \n",
      "4            0        2         3         0         0    0   11          5   \n",
      "\n",
      "   Income  \n",
      "0       3  \n",
      "1       1  \n",
      "2       8  \n",
      "3       6  \n",
      "4       4  \n",
      "\n",
      "[5 rows x 22 columns]\n"
     ]
    }
   ],
   "source": [
    "diabetes_df = pd.read_csv('cleaned_diabetes_df.csv')\n",
    "print(diabetes_df.head(5))"
   ]
  },
  {
   "cell_type": "code",
   "execution_count": null,
   "id": "8e1b1320-af7d-4c90-b8a0-e2bc01ed0804",
   "metadata": {},
   "outputs": [],
   "source": []
  }
 ],
 "metadata": {
  "kernelspec": {
   "display_name": "Python 3 (ipykernel)",
   "language": "python",
   "name": "python3"
  },
  "language_info": {
   "codemirror_mode": {
    "name": "ipython",
    "version": 3
   },
   "file_extension": ".py",
   "mimetype": "text/x-python",
   "name": "python",
   "nbconvert_exporter": "python",
   "pygments_lexer": "ipython3",
   "version": "3.11.7"
  }
 },
 "nbformat": 4,
 "nbformat_minor": 5
}
